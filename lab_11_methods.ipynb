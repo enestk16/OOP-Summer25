{
 "cells": [
  {
   "cell_type": "code",
   "execution_count": 3,
   "id": "859b2ff2",
   "metadata": {},
   "outputs": [],
   "source": [
    "class Student:\n",
    "   def __init__(self):\n",
    "      self.hello()\n",
    "\n",
    "   def hello(self):\n",
    "      print(\"hello student\")"
   ]
  },
  {
   "cell_type": "code",
   "execution_count": 4,
   "id": "59fc9cd7",
   "metadata": {},
   "outputs": [
    {
     "name": "stdout",
     "output_type": "stream",
     "text": [
      "hello student\n",
      "hello student\n"
     ]
    }
   ],
   "source": [
    "s1 = Student()\n",
    "s1.hello()"
   ]
  },
  {
   "cell_type": "code",
   "execution_count": null,
   "id": "ff05fbbd",
   "metadata": {},
   "outputs": [
    {
     "name": "stdout",
     "output_type": "stream",
     "text": [
      "Hello, I am Enes Talha Kanar my index number is 35375\n"
     ]
    }
   ],
   "source": [
    "class Student:\n",
    "    def __init__(self, name, index_number):\n",
    "        self.name = name\n",
    "        self.index_number = index_number\n",
    "    def hello(self):\n",
    "        print(f\"Hello, I am {self.name} my index number is {self.index_number}\")\n",
    "student2 = Student(\"Enes Talha Kanar\", 35375)\n",
    "student2.hello()    "
   ]
  },
  {
   "cell_type": "code",
   "execution_count": null,
   "id": "9eb3cb0a",
   "metadata": {},
   "outputs": [],
   "source": []
  }
 ],
 "metadata": {
  "kernelspec": {
   "display_name": "Python 3",
   "language": "python",
   "name": "python3"
  },
  "language_info": {
   "codemirror_mode": {
    "name": "ipython",
    "version": 3
   },
   "file_extension": ".py",
   "mimetype": "text/x-python",
   "name": "python",
   "nbconvert_exporter": "python",
   "pygments_lexer": "ipython3",
   "version": "3.12.1"
  }
 },
 "nbformat": 4,
 "nbformat_minor": 5
}
