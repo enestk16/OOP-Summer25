{
  "metadata": {
    "kernelspec": {
      "name": "python",
      "display_name": "Python (Pyodide)",
      "language": "python"
    },
    "language_info": {
      "codemirror_mode": {
        "name": "python",
        "version": 3
      },
      "file_extension": ".py",
      "mimetype": "text/x-python",
      "name": "python",
      "nbconvert_exporter": "python",
      "pygments_lexer": "ipython3",
      "version": "3.8"
    }
  },
  "nbformat_minor": 5,
  "nbformat": 4,
  "cells": [
    {
      "id": "8c0cb136-bbaf-41d6-8e89-b0631d42321c",
      "cell_type": "markdown",
      "source": "Inheritance",
      "metadata": {}
    },
    {
      "id": "03f3e779-1ac4-4eed-b166-7bca18b1baba",
      "cell_type": "code",
      "source": "class Animal:\n    def give_sound(self, sound):\n        print(sound)",
      "metadata": {
        "trusted": true
      },
      "outputs": [],
      "execution_count": 1
    },
    {
      "id": "56997a73-5989-4ca1-9167-d015dab58ce4",
      "cell_type": "code",
      "source": "class Dog(Animal):\n    def bark(self):\n        self.give_sound('woof')",
      "metadata": {
        "trusted": true
      },
      "outputs": [],
      "execution_count": 2
    },
    {
      "id": "0098ebc5-78de-41bc-9771-15f2a27e0a0a",
      "cell_type": "code",
      "source": "my_dog = Dog()\nmy_dog.bark()",
      "metadata": {
        "trusted": true
      },
      "outputs": [
        {
          "name": "stdout",
          "output_type": "stream",
          "text": "woof\n"
        }
      ],
      "execution_count": 3
    },
    {
      "id": "5a879e8e-ffc3-405a-a82c-48b30cc6a17d",
      "cell_type": "code",
      "source": "class Person:\n    def __init__(self, first_name, last_name):\n        self.first_name = first_name\n        self.last_name = last_name",
      "metadata": {
        "trusted": true
      },
      "outputs": [],
      "execution_count": 4
    },
    {
      "id": "c3ec3623-1d47-4745-899d-6fd9c4ec390a",
      "cell_type": "code",
      "source": "class Student:\n    def __init__(self, first_name, last_name, subject):\n        self.first_name = first_name\n        self.last_name = last_name\n        self.subject = subject\n\n    def display_info(self):\n        print(f\"Name: {self.first_name} {self.last_name}, Subject: {self.subject}\")\n\nstudent1 = Student('Enes Talha', 'Kanar', 'geometry')\nstudent1.display_info()",
      "metadata": {
        "trusted": true
      },
      "outputs": [
        {
          "name": "stdout",
          "output_type": "stream",
          "text": "Name: Enes Talha Kanar, Subject: geometry\n"
        }
      ],
      "execution_count": 10
    },
    {
      "id": "f21b7658-8b56-40c4-baa0-406c1fc04464",
      "cell_type": "code",
      "source": "class Student(Person):\n    def __init__(self, first_name, last_name, subject):\n        super().__init__(first_name, last_name)\n        self.subject = subject\n\n    def display_info(self):\n        print(f\"Name: {self.first_name} {self.last_name}, Subject: {self.subject}\")\n\nstudent1 = Student('Enes Talha', 'Kanar', 'geometry')\nstudent1.display_info()",
      "metadata": {
        "trusted": true
      },
      "outputs": [
        {
          "name": "stdout",
          "output_type": "stream",
          "text": "Name: Enes Talha Kanar, Subject: geometry\n"
        }
      ],
      "execution_count": 11
    },
    {
      "id": "030fdc3e-82aa-40e2-87f3-02178fb0970b",
      "cell_type": "markdown",
      "source": "Polymorphism",
      "metadata": {}
    },
    {
      "id": "e1abc557-4ee4-4912-afc6-f09342cbca17",
      "cell_type": "code",
      "source": "class Vehicle:\n    def move(self):\n        return \"The vehicle is moving.\"",
      "metadata": {
        "trusted": true
      },
      "outputs": [],
      "execution_count": 17
    },
    {
      "id": "2fc68851-6bb8-4d8a-bc21-b0302eab00f2",
      "cell_type": "code",
      "source": "class Car(Vehicle):\n    def move(self):\n        return \"The car is driving on the road.\"",
      "metadata": {
        "trusted": true
      },
      "outputs": [],
      "execution_count": 18
    },
    {
      "id": "606808bb-bb7a-4609-b83b-5eac5aeb94b3",
      "cell_type": "code",
      "source": "class Boat(Vehicle):\n    def move(self):\n        return \"The boat is sailing on the water.\"",
      "metadata": {
        "trusted": true
      },
      "outputs": [],
      "execution_count": 19
    },
    {
      "id": "a07b0729-cb95-4c59-80cd-dd78b8a42cda",
      "cell_type": "code",
      "source": "class Airplane(Vehicle):\n    def move(self):\n        return \"The airplane is flying in the sky.\"",
      "metadata": {
        "trusted": true
      },
      "outputs": [],
      "execution_count": 20
    },
    {
      "id": "27169163-32a2-43de-ac80-4844f3b2fc53",
      "cell_type": "code",
      "source": "vehicles = [\n    Car(),\n    Boat(),\n    Airplane()\n]\n\nfor v in vehicles:\n    print(v.move())",
      "metadata": {
        "trusted": true
      },
      "outputs": [
        {
          "name": "stdout",
          "output_type": "stream",
          "text": "The car is driving on the road.\nThe boat is sailing on the water.\nThe airplane is flying in the sky.\n"
        }
      ],
      "execution_count": 21
    },
    {
      "id": "308ce2f2-775a-4d78-83ef-b339b1439595",
      "cell_type": "code",
      "source": "",
      "metadata": {
        "trusted": true
      },
      "outputs": [],
      "execution_count": null
    }
  ]
}