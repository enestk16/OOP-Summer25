{
  "metadata": {
    "kernelspec": {
      "name": "python",
      "display_name": "Python (Pyodide)",
      "language": "python"
    },
    "language_info": {
      "codemirror_mode": {
        "name": "python",
        "version": 3
      },
      "file_extension": ".py",
      "mimetype": "text/x-python",
      "name": "python",
      "nbconvert_exporter": "python",
      "pygments_lexer": "ipython3",
      "version": "3.8"
    }
  },
  "nbformat_minor": 5,
  "nbformat": 4,
  "cells": [
    {
      "id": "8c0cb136-bbaf-41d6-8e89-b0631d42321c",
      "cell_type": "markdown",
      "source": "## INHERITANCE",
      "metadata": {}
    },
    {
      "id": "733d8a60-ba0b-40de-b270-89fe681a426c",
      "cell_type": "code",
      "source": "class Animal:\n    def give_sound(self, sound):\n        print(sound)",
      "metadata": {
        "trusted": true
      },
      "outputs": [],
      "execution_count": 27
    },
    {
      "id": "96a4611f-d382-4998-b1c4-951c2faa8a87",
      "cell_type": "code",
      "source": "class Dog(Animal):\n    def bark(self):\n        self.give_sound('woof')",
      "metadata": {
        "trusted": true
      },
      "outputs": [],
      "execution_count": 28
    },
    {
      "id": "bc7bc453-b908-49aa-b819-faaf5ad03069",
      "cell_type": "code",
      "source": "my_dog = Dog()\nmy_dog.bark()",
      "metadata": {
        "trusted": true
      },
      "outputs": [
        {
          "name": "stdout",
          "output_type": "stream",
          "text": "woof\n"
        }
      ],
      "execution_count": 29
    },
    {
      "id": "b8ebb513-7b0d-416e-9936-fad040060fec",
      "cell_type": "code",
      "source": "class Person:\n    def __init__(self, first_name, last_name):\n        self.first_name = first_name\n        self.last_name = last_name",
      "metadata": {
        "trusted": true
      },
      "outputs": [],
      "execution_count": 30
    },
    {
      "id": "225ba5d8-1216-4e76-b4df-f966b3b8dc88",
      "cell_type": "code",
      "source": "class Student:\n    def __init__(self, first_name, last_name, subject):\n        self.first_name = first_name\n        self.last_name = last_name\n        self.subject = subject\n\n    def display_info(self):\n        print(f\"Name: {self.first_name} {self.last_name}, Subject: {self.subject}\")\n\nstudent1 = Student('Enes Talha', 'Kanar', 'geometry')\nstudent1.display_info()",
      "metadata": {
        "trusted": true
      },
      "outputs": [
        {
          "name": "stdout",
          "output_type": "stream",
          "text": "Name: Enes Talha Kanar, Subject: geometry\n"
        }
      ],
      "execution_count": 31
    },
    {
      "id": "7dce9776-243f-4249-a74a-6c7086244fe8",
      "cell_type": "code",
      "source": "class Student(Person):\n    def __init__(self, first_name, last_name, subject):\n        super().__init__(first_name, last_name)\n        self.subject = subject\n\n    def display_info(self):\n        print(f\"Name: {self.first_name} {self.last_name}, Subject: {self.subject}\")\n\nstudent1 = Student('Enes Talha', 'Kanar', 'geometry')\nstudent1.display_info()",
      "metadata": {
        "trusted": true
      },
      "outputs": [
        {
          "name": "stdout",
          "output_type": "stream",
          "text": "Name: Enes Talha Kanar, Subject: geometry\n"
        }
      ],
      "execution_count": 32
    }
  ]
}