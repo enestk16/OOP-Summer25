{
 "cells": [
  {
   "cell_type": "code",
   "execution_count": 33,
   "id": "c01fd571",
   "metadata": {},
   "outputs": [
    {
     "name": "stdout",
     "output_type": "stream",
     "text": [
      "Enes\n"
     ]
    }
   ],
   "source": [
    "print(\"Enes\")"
   ]
  },
  {
   "cell_type": "code",
   "execution_count": 34,
   "id": "396671f0",
   "metadata": {},
   "outputs": [
    {
     "name": "stdout",
     "output_type": "stream",
     "text": [
      "<class 'str'>\n"
     ]
    }
   ],
   "source": [
    "x = 3\n",
    "print(type(\"x\"))"
   ]
  },
  {
   "cell_type": "code",
   "execution_count": 35,
   "id": "686ce345",
   "metadata": {},
   "outputs": [
    {
     "name": "stdout",
     "output_type": "stream",
     "text": [
      "peach\n"
     ]
    }
   ],
   "source": [
    "fruits = [\"apple\", \"banana\", \"peach\" ]\n",
    "for fruit in fruits:fruit\n",
    "print(fruit)"
   ]
  },
  {
   "cell_type": "code",
   "execution_count": 36,
   "id": "b550151a",
   "metadata": {},
   "outputs": [
    {
     "data": {
      "text/plain": [
       "{'name': 'Enes', 'age': 21, 'country': 'Turkey'}"
      ]
     },
     "execution_count": 36,
     "metadata": {},
     "output_type": "execute_result"
    }
   ],
   "source": [
    "{\n",
    "    \"name\": \"Enes\",\n",
    "    \"age\": 21,\n",
    "    \"country\": \"Turkey\",\n",
    "}"
   ]
  },
  {
   "cell_type": "code",
   "execution_count": 44,
   "id": "7f04269b",
   "metadata": {},
   "outputs": [],
   "source": [
    "class Student:\n",
    "    def __init__(self, name, age):\n",
    "        self.name = name\n",
    "        self.age = age\n",
    "    "
   ]
  },
  {
   "cell_type": "code",
   "execution_count": 45,
   "id": "c37ecfd7",
   "metadata": {},
   "outputs": [],
   "source": [
    "# student1 = Student(\"Enes\",20)\n",
    "student2 = Student(\"Mehmet\",21)"
   ]
  },
  {
   "cell_type": "code",
   "execution_count": null,
   "id": "cfde4884",
   "metadata": {},
   "outputs": [],
   "source": []
  }
 ],
 "metadata": {
  "kernelspec": {
   "display_name": "Python 3",
   "language": "python",
   "name": "python3"
  },
  "language_info": {
   "codemirror_mode": {
    "name": "ipython",
    "version": 3
   },
   "file_extension": ".py",
   "mimetype": "text/x-python",
   "name": "python",
   "nbconvert_exporter": "python",
   "pygments_lexer": "ipython3",
   "version": "3.12.1"
  }
 },
 "nbformat": 4,
 "nbformat_minor": 5
}
