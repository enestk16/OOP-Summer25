{
  "metadata": {
    "kernelspec": {
      "name": "python",
      "display_name": "Python (Pyodide)",
      "language": "python"
    },
    "language_info": {
      "codemirror_mode": {
        "name": "python",
        "version": 3
      },
      "file_extension": ".py",
      "mimetype": "text/x-python",
      "name": "python",
      "nbconvert_exporter": "python",
      "pygments_lexer": "ipython3",
      "version": "3.8"
    }
  },
  "nbformat_minor": 5,
  "nbformat": 4,
  "cells": [
    {
      "id": "8c0cb136-bbaf-41d6-8e89-b0631d42321c",
      "cell_type": "markdown",
      "source": "## POLYMORPHISM",
      "metadata": {}
    },
    {
      "id": "f4015ea9-ac0b-4f49-b57f-7c146316da70",
      "cell_type": "code",
      "source": "class Vehicle:\n    def move(self):\n        return \"The vehicle is moving.\"",
      "metadata": {
        "trusted": true
      },
      "outputs": [],
      "execution_count": 22
    },
    {
      "id": "1fc9f74b-5a8d-4807-b98e-862283147e6a",
      "cell_type": "code",
      "source": "class Car(Vehicle):\n    def move(self):\n        return \"The car is driving on the road.\"",
      "metadata": {
        "trusted": true
      },
      "outputs": [],
      "execution_count": 23
    },
    {
      "id": "8cac9e5a-c0d7-41a7-8df4-25c8496ecf4c",
      "cell_type": "code",
      "source": "class Boat(Vehicle):\n    def move(self):\n        return \"The boat is sailing on the water.\"",
      "metadata": {
        "trusted": true
      },
      "outputs": [],
      "execution_count": 24
    },
    {
      "id": "1bd8bb75-8263-4047-bca7-e1a630dd2fbc",
      "cell_type": "code",
      "source": "class Airplane(Vehicle):\n    def move(self):\n        return \"The airplane is flying in the sky.\"",
      "metadata": {
        "trusted": true
      },
      "outputs": [],
      "execution_count": 25
    },
    {
      "id": "a177ecbc-0605-4a75-a548-d0f61b8dff1b",
      "cell_type": "code",
      "source": "vehicles = [\n    Car(),\n    Boat(),\n    Airplane()\n]\n\nfor v in vehicles:\n    print(v.move())",
      "metadata": {
        "trusted": true
      },
      "outputs": [
        {
          "name": "stdout",
          "output_type": "stream",
          "text": "The car is driving on the road.\nThe boat is sailing on the water.\nThe airplane is flying in the sky.\n"
        }
      ],
      "execution_count": 26
    }
  ]
}