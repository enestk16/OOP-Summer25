{
 "cells": [
  {
   "cell_type": "code",
   "execution_count": 1,
   "id": "c683327d",
   "metadata": {},
   "outputs": [],
   "source": [
    "class Animal:\n",
    "    def __init__(self):\n",
    "        print(\"An animal object has been created\")\n",
    "        "
   ]
  },
  {
   "cell_type": "code",
   "execution_count": 2,
   "id": "1b5165d5",
   "metadata": {},
   "outputs": [],
   "source": [
    "class Animal:\n",
    "    def __init__(self, type, color, age, number_of_legs):\n",
    "        self.type = type\n",
    "        self.color = color\n",
    "        self.age = age\n",
    "        self.number_of_legs = number_of_legs\n",
    "        a1 = Animal(\"crocodile\",\"green\", 3 , 4)\n",
    "        a2 = Animal(\"bird\", \"black\", 2 , 2)\n",
    "        a3 = Animal(\"Wolf\", \"gray\", 1 , 4)"
   ]
  },
  {
   "cell_type": "code",
   "execution_count": 3,
   "id": "cfa294ec",
   "metadata": {},
   "outputs": [],
   "source": [
    "class Car:\n",
    "    def __init__(self, brand, model):\n",
    "        self.brand = brand\n",
    "        self.model = model\n",
    "        a1= Car(\"Volkswagen\", \"Passat\")\n",
    "        a2= Car(\"Mercedes\", \"E200\")\n",
    "        a3= Car(\"Honda\", \"Civic\")"
   ]
  },
  {
   "cell_type": "markdown",
   "id": "64565892",
   "metadata": {},
   "source": [
    "## Task for extra point - complex constructor"
   ]
  },
  {
   "cell_type": "code",
   "execution_count": 4,
   "id": "9293ac80",
   "metadata": {},
   "outputs": [],
   "source": [
    "class House:\n",
    "    def __init__(self,location,floors,furnitures):\n",
    "        self.location = location\n",
    "        self.floors = floors\n",
    "        self.furnitures = furnitures\n",
    "        h1 = House({'Country': 'Turkey',\n",
    "                    'City': 'Bursa',\n",
    "                    'Street': 'Kayapa'},2,\"Bed,Tv,Wardrobe\")\n",
    "        h2 = House({'Country': 'Poland',\n",
    "                    'City': 'Warszawa',\n",
    "                    'Street': 'Tytoniowa'},3,\"Carpet,Dishwasher\")"
   ]
  },
  {
   "cell_type": "code",
   "execution_count": null,
   "id": "6f720b15",
   "metadata": {},
   "outputs": [],
   "source": []
  }
 ],
 "metadata": {
  "kernelspec": {
   "display_name": "Python 3",
   "language": "python",
   "name": "python3"
  },
  "language_info": {
   "codemirror_mode": {
    "name": "ipython",
    "version": 3
   },
   "file_extension": ".py",
   "mimetype": "text/x-python",
   "name": "python",
   "nbconvert_exporter": "python",
   "pygments_lexer": "ipython3",
   "version": "3.12.1"
  }
 },
 "nbformat": 4,
 "nbformat_minor": 5
}
